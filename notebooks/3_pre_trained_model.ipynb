{
 "cells": [
  {
   "cell_type": "code",
   "execution_count": null,
   "metadata": {
    "colab": {
     "base_uri": "https://localhost:8080/"
    },
    "id": "PRdWtMxnAZMr",
    "outputId": "52292b99-0ced-4942-889d-0c81d4da1cae"
   },
   "outputs": [],
   "source": [
    "# Import the necessary module\n",
    "from google.colab import drive\n",
    "from datasets import load_from_disk\n",
    "\n",
    "# Mount Google Drive\n",
    "drive.mount('/content/drive')"
   ]
  },
  {
   "cell_type": "code",
   "execution_count": null,
   "metadata": {
    "colab": {
     "base_uri": "https://localhost:8080/"
    },
    "id": "k4zqPXxBAZDv",
    "outputId": "3450846b-8000-4682-b693-e403ec9f4d3b"
   },
   "outputs": [],
   "source": [
    "# List the contents of the specific directory (optional, but good for debugging)\n",
    "!ls /content/drive/MyDrive/my_dataset/\n",
    "\n",
    "# Load the dataset from disk *after* mounting Google Drive\n",
    "dataset = load_from_disk('file:///content/drive/MyDrive/my_dataset')"
   ]
  },
  {
   "cell_type": "code",
   "execution_count": null,
   "metadata": {
    "id": "VyHSSpXVBqen"
   },
   "outputs": [],
   "source": [
    "import numpy as np\n",
    "import pandas as pd\n",
    "train_ds = pd.DataFrame(dataset['train'])\n",
    "test_ds = pd.DataFrame(dataset['test'])"
   ]
  },
  {
   "cell_type": "code",
   "execution_count": null,
   "metadata": {
    "id": "PoVOM8L1534z"
   },
   "outputs": [],
   "source": [
    "train_ds = train_ds.head(500)\n",
    "test_ds = test_ds.head(200)"
   ]
  },
  {
   "cell_type": "code",
   "execution_count": null,
   "metadata": {
    "id": "qbEg53Om6hJI"
   },
   "outputs": [],
   "source": [
    "from transformers import pipeline"
   ]
  },
  {
   "cell_type": "code",
   "execution_count": null,
   "metadata": {
    "colab": {
     "base_uri": "https://localhost:8080/",
     "height": 1000,
     "referenced_widgets": [
      "628d7b7e07784eceabb754dab44621d0",
      "76083a4185a840ac8968aca45e2f214a",
      "3dd1b7d1cecb437ca101f550109cbb47",
      "d388d3e7ce814785af83b76a06e25f5a",
      "ea78102d16b8495a8f5cadcb8ec72467",
      "62d7dc6db5a54bcd95543197949d619e",
      "63ee7b3f72af4ac2a5d38b23e86cca70",
      "538a3832c8cd4cf584a8ceda4fe01440",
      "14aa0ebc6d6541d2aa4fb9cf0b9537a2",
      "92ba261357d749c9b74344b7348bbcb6",
      "9b519b256753479e96addd797e4a6947",
      "b68db224edc74953b034e40cbc7aa466",
      "51fdb02d57e64a57b94d5bcd0d740567",
      "15290448d564498c89cebba125d59125",
      "a291e5bebaa1412e8e2cd5ca0937ab10",
      "156d5fee4a3e4987ae5ac631e1d2729d",
      "895e5bf221c74b96b712fefff7bfa196",
      "9e6107e078914b519436cf0d50bdc999",
      "61079b64097840f49c97a62c22278fa8",
      "aa82bbef86064b84a518306758e1c422",
      "3a50b78a249a44a084f3e18c6eaf7335",
      "1cf2c0b5099045e880a0d7485126bf54",
      "244aa8f5394f4d32bd8b289e5a34e133",
      "32b82f7d46d746458c261ce1807c4639",
      "d1b93da86c1d4a68a5b41809648e262d",
      "d1b2285f3f7444c5b637eab77791e63b",
      "8d5e1c5891c14f98865e0d093f9b9b58",
      "a6c7ef27a2f84546a78323198d0f56fe",
      "8932c6b6485b47f4a1bfa4be9f165340",
      "6fa9c8c7672f40488df87e92a63fb998",
      "c79b23abcaf4452fb2688549c2c2d669",
      "556d6844390b44448e4a191a4b9d91bf",
      "a721472155bb4fc59264e8c48ad121bd",
      "87375f133fcf41daab78695bbd7cc3d4",
      "e06b6090abc04c0eb3d5d66d377bab3e",
      "0254ce69d2a4498890671dccc4997334",
      "97d84bf34bfd47759fd790dc11d7acbd",
      "1a32ae8a6f2c4b22bbc932bdf0bdd2e5",
      "8d86fb1b5a954407bcc57dc4f3cdfaa5",
      "3c80d18521774d03af117a19e76f0455",
      "c5450411c61e4e7da0c3c0c46c0366e7",
      "6ad1cb0c21504a13bb1c253200ef25fc",
      "2698a30714c045e08560692d8512478f",
      "b631daf6c9bc45e18e8212c7e5f8be15",
      "0c13034015e94274b583f4a328d294b8",
      "303d32d16e3b437b8013616795fb5080",
      "ed9c388a41c54ff7b8a5280533b0c482",
      "c8a3aca174524d0791e2eddb11cfa828",
      "02a8358aaae84f7b9aa28c3f67bcd251",
      "ee89ae5b36a6447684242300131d221f",
      "0e20142160d748f093896c0e7429fbb3",
      "03065e78d11d4a76bb02767211fea3f4",
      "8d126de35afe4a15bc8c1f89d60bfe77",
      "1c0a7460a6d74319926998990168da7d",
      "2b29df89f4fe453db89df5d82026edc3",
      "7b2bf67b96094731bd5c40ee3e90cfbf",
      "32507548472c478eb95631a1f6fb815e",
      "c2b664e7052948319a0f3bc635235808",
      "318b6ff78fac4e34a7425cd66097caf3",
      "ca3b322b1bce480b9d592d2a1958a605",
      "d8d6183fa96d40baba649a09182c13b9",
      "a3a4acb619e94b07a6c0680984589880",
      "8820827843204fdda87688afa11b8a54",
      "2d2938b8965042c49aead77674d59118",
      "0cdc8817d40643438cdc2dad172c2d7c",
      "79f159d78cce4012bac3307298749d1e"
     ]
    },
    "id": "lsiC1u21-Ifi",
    "outputId": "e5e84e23-37e0-463c-c179-db1c150ac61a"
   },
   "outputs": [],
   "source": [
    "# Load pipeline\n",
    "summarizer = pipeline(\"summarization\", model=\"facebook/bart-large-cnn\", device=-1)  # CPU\n",
    "\n",
    "# Make sure documents are strings\n",
    "documents = train_ds['document_lemmatized_n'].apply(lambda tokens: ' '.join(tokens)).tolist()\n",
    "\n",
    "# Truncate overly long documents\n",
    "def truncate_text(text, max_words=900):\n",
    "    words = text.split()\n",
    "    return ' '.join(words[:max_words]) if len(words) > max_words else text\n",
    "\n",
    "# Generate summaries\n",
    "summaries = []\n",
    "for i, doc in enumerate(documents):\n",
    "    doc = truncate_text(doc)\n",
    "    try:\n",
    "        summary = summarizer(doc, max_length=60, min_length=20, do_sample=False)\n",
    "        summaries.append(summary[0]['summary_text'])\n",
    "    except Exception as e:\n",
    "        print(f\"Error on document {i}: {e}\")\n",
    "        summaries.append(\"Summary generation failed.\")"
   ]
  },
  {
   "cell_type": "code",
   "execution_count": null,
   "metadata": {
    "id": "LZaIVVAPBQMK"
   },
   "outputs": [],
   "source": [
    "# Store summaries in the dataset:\n",
    "train_ds['doc_summary'] = summaries"
   ]
  },
  {
   "cell_type": "code",
   "execution_count": null,
   "metadata": {
    "colab": {
     "base_uri": "https://localhost:8080/",
     "height": 1000
    },
    "id": "WK3La52M5bDX",
    "outputId": "a4f93e9b-0c85-4dda-d295-0fbb91482e20"
   },
   "outputs": [],
   "source": [
    "train_ds"
   ]
  },
  {
   "cell_type": "code",
   "execution_count": null,
   "metadata": {
    "colab": {
     "base_uri": "https://localhost:8080/"
    },
    "id": "aPgcPXPexnm2",
    "outputId": "fac79c6f-0e69-4876-d35d-92b35f5f525c"
   },
   "outputs": [],
   "source": [
    "from datasets import Dataset, DatasetDict\n",
    "# assign the splits\n",
    "train = Dataset.from_pandas(train_ds)\n",
    "test = Dataset.from_pandas(test_ds)\n",
    "# reconstruct both datasets into a Dataset Dict object\n",
    "model_ds = DatasetDict(\n",
    "    {\n",
    "        'train': train,\n",
    "        'test': test\n",
    "    }\n",
    ")\n",
    "# view the resulting dataset dict object\n",
    "model_ds"
   ]
  },
  {
   "cell_type": "code",
   "execution_count": null,
   "metadata": {
    "colab": {
     "base_uri": "https://localhost:8080/",
     "height": 81,
     "referenced_widgets": [
      "22443e1900564223ab775f9e8b0e4ca3",
      "94c549a58c044672addfd596f4c86608",
      "3a16bec8b1c44b458b50b11312f560c3",
      "204ac77e0d1e4670b3a886afe5bb41d4",
      "5be395ef437d42a3ab034389cbee7966",
      "d06212ae93704521bbed3e1dc90d2de6",
      "60056f46b8e743b9922a63c3a7269646",
      "5ef6ae5be45344f1a855a36cbcb26af0",
      "8a31a79954d841c2af6046abab4a406a",
      "e193d9367f4a40ce8f26935388f0d070",
      "7e4cd2d1db524a80999365c2392fbc35",
      "04db475eb55c4e13b01668eb6f0754a7",
      "9115a0fb5b94434ebf41b7674db94881",
      "5d96b510998448a1b44ae7c3e87496f6",
      "138f99c82b1c4eeba916ac3943b004f3",
      "f78e7098bbf84256bf7ab47d66f484ac",
      "40801a2509ab49338ae98f2e2d37a524",
      "ff82b58030de479696d570def070bc92",
      "66d71da207124a2b8f1c051e535dace3",
      "f50e0bf31f7e4eb4bed1175f3b64bf64",
      "0348368e03524b46aa9e655a51c24dd9",
      "beac40a6988d4fff8ee14f7e90a57126"
     ]
    },
    "id": "ppb8CNTlEOcI",
    "outputId": "ece32139-90da-41bc-a176-942aea3b9326"
   },
   "outputs": [],
   "source": [
    "model_ds.save_to_disk('/content/model_ds')"
   ]
  },
  {
   "cell_type": "code",
   "execution_count": null,
   "metadata": {
    "colab": {
     "base_uri": "https://localhost:8080/"
    },
    "id": "BN0jCc2lER40",
    "outputId": "dd97f7a3-99c0-47e6-b75a-1edb2305c074"
   },
   "outputs": [],
   "source": [
    "from google.colab import drive\n",
    "drive.mount('/content/drive')\n",
    "\n",
    "!cp -r /content/model_ds /content/drive/MyDrive/model_ds"
   ]
  }
 ],
 "metadata": {
  "colab": {
   "provenance": []
  },
  "kernelspec": {
   "display_name": "Python 3",
   "name": "python3"
  },
  "language_info": {
   "name": "python"
  }
 },
 "nbformat": 4,
 "nbformat_minor": 0
}
