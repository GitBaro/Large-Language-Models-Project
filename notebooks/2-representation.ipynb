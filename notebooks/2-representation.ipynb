{
 "cells": [
  {
   "cell_type": "code",
   "execution_count": null,
   "metadata": {
    "id": "wU1roREw_ZfH"
   },
   "outputs": [],
   "source": [
    "import pandas as pd\n",
    "import numpy as np"
   ]
  },
  {
   "cell_type": "code",
   "execution_count": null,
   "metadata": {
    "colab": {
     "base_uri": "https://localhost:8080/"
    },
    "id": "KAikIGa5kPpz",
    "outputId": "46de8f08-d518-465d-9043-5c6e68349c7c"
   },
   "outputs": [],
   "source": [
    "# Import the necessary module\n",
    "from google.colab import drive\n",
    "from datasets import load_from_disk\n",
    "\n",
    "# Mount Google Drive\n",
    "drive.mount('/content/drive')"
   ]
  },
  {
   "cell_type": "code",
   "execution_count": null,
   "metadata": {
    "colab": {
     "base_uri": "https://localhost:8080/"
    },
    "id": "fRZ24rnWpf7l",
    "outputId": "5a64be60-d8c9-4c8a-afa1-f29c9df6b4bd"
   },
   "outputs": [],
   "source": [
    "# Check if Google Drive is mounted (optional, but good for debugging)\n",
    "!ls /content/drive/MyDrive/\n",
    "\n",
    "# List the contents of the specific directory (optional, but good for debugging)\n",
    "!ls /content/drive/MyDrive/my_dataset/\n",
    "\n",
    "# Load the dataset from disk *after* mounting Google Drive\n",
    "dataset = load_from_disk('file:///content/drive/MyDrive/my_dataset')"
   ]
  },
  {
   "cell_type": "code",
   "execution_count": null,
   "metadata": {
    "id": "pHa3Fm0P_RJE"
   },
   "outputs": [],
   "source": [
    "train_ds = pd.DataFrame(dataset['train'])\n",
    "test_ds = pd.DataFrame(dataset['test'])"
   ]
  },
  {
   "cell_type": "code",
   "execution_count": null,
   "metadata": {
    "colab": {
     "base_uri": "https://localhost:8080/",
     "height": 1000
    },
    "id": "Yu80K9l4DX40",
    "outputId": "1c4c7df2-25aa-4098-8ab5-389192229568"
   },
   "outputs": [],
   "source": [
    "train_ds"
   ]
  },
  {
   "cell_type": "code",
   "execution_count": null,
   "metadata": {
    "colab": {
     "base_uri": "https://localhost:8080/"
    },
    "id": "CXMsDQhTp68F",
    "outputId": "0eb31446-d11c-4173-a45d-10277fa2d6ac"
   },
   "outputs": [],
   "source": [
    "from sklearn.feature_extraction.text import CountVectorizer, TfidfVectorizer\n",
    "# Term Frequency-Inverse Document Frequency (TF-IDF)\n",
    "# Step 1: join tokens into strings\n",
    "train_docs_joined = train_ds['document_lemmatized_n'].apply(lambda tokens: ' '.join(tokens))\n",
    "test_docs_joined = test_ds['document_lemmatized_n'].apply(lambda tokens: ' '.join(tokens))\n",
    "\n",
    "# Step 2: fit the vectorizer\n",
    "vectorizer = CountVectorizer()\n",
    "vectorizer.fit(train_docs_joined)\n",
    "\n",
    "# Optional: print vocabulary\n",
    "print('Vocabulary:', vectorizer.vocabulary_)\n",
    "\n",
    "# Step 3: transform the joined strings\n",
    "vector_train = vectorizer.transform(train_docs_joined)\n",
    "vector_test = vectorizer.transform(test_docs_joined)"
   ]
  },
  {
   "cell_type": "code",
   "execution_count": null,
   "metadata": {
    "colab": {
     "base_uri": "https://localhost:8080/"
    },
    "id": "Yl_8r6EdGT_B",
    "outputId": "d4068ae8-c955-443d-f02f-b9711b230c45"
   },
   "outputs": [],
   "source": [
    "# get the vocabulary size\n",
    "vocab_size = len(vectorizer.vocabulary_)\n",
    "print(\"Vocabulary size:\", vocab_size)"
   ]
  },
  {
   "cell_type": "code",
   "execution_count": null,
   "metadata": {
    "colab": {
     "base_uri": "https://localhost:8080/"
    },
    "id": "hvV9x1A1CH1U",
    "outputId": "b1d469b1-67d5-4490-f32e-3649c9e93943"
   },
   "outputs": [],
   "source": [
    "# checking the number of docs in the dataset\n",
    "num_docs = len(train_ds['document'])\n",
    "print(\"Number of documents:\", num_docs)"
   ]
  }
 ],
 "metadata": {
  "colab": {
   "provenance": []
  },
  "kernelspec": {
   "display_name": "Python 3",
   "name": "python3"
  },
  "language_info": {
   "name": "python"
  }
 },
 "nbformat": 4,
 "nbformat_minor": 0
}
